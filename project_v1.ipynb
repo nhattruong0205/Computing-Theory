{
 "cells": [
  {
   "cell_type": "code",
   "execution_count": 1,
   "metadata": {},
   "outputs": [],
   "source": [
    "import math\n",
    "\n",
    "def perm_to_index(perm):\n",
    "    n = len(perm)\n",
    "    perm = list(perm)\n",
    "    index = 0\n",
    "    factor = math.factorial(n)\n",
    "    elements = list(range(n))\n",
    "\n",
    "    for i in range(n):\n",
    "        factor //= n - i\n",
    "        rank = elements.index(perm[i])\n",
    "        index += rank * factor\n",
    "        elements.pop(rank)\n",
    "\n",
    "    return index\n",
    "\n",
    "def index_to_perm(index, n):\n",
    "    elements = list(range(n))\n",
    "    perm = []\n",
    "    factor = math.factorial(n)\n",
    "\n",
    "    for i in range(n):\n",
    "        factor //= n - i\n",
    "        rank = index // factor\n",
    "        index %= factor\n",
    "        perm.append(elements.pop(rank))\n",
    "\n",
    "    return perm\n"
   ]
  },
  {
   "cell_type": "code",
   "execution_count": 2,
   "metadata": {},
   "outputs": [
    {
     "name": "stdout",
     "output_type": "stream",
     "text": [
      "4\n"
     ]
    }
   ],
   "source": [
    "perm = [2, 0, 1]\n",
    "index = perm_to_index(perm)  # → 4\n",
    "print(index)"
   ]
  },
  {
   "cell_type": "code",
   "execution_count": 6,
   "metadata": {},
   "outputs": [
    {
     "name": "stdout",
     "output_type": "stream",
     "text": [
      "[2, 0, 1]\n"
     ]
    }
   ],
   "source": [
    "recovered = index_to_perm(4, 3) #index, size_n\n",
    "print(recovered)"
   ]
  },
  {
   "cell_type": "code",
   "execution_count": 48,
   "metadata": {},
   "outputs": [],
   "source": [
    "def rankK(pi):\n",
    "    \"\"\"\n",
    "    Computes the rank of a permutation using Algorithm 6.1 rankK.\n",
    "\n",
    "    This algorithm modifies a copy of the input permutation in-place\n",
    "    to achieve O(n) time complexity. It calculates the rank based on\n",
    "    a specific mixed-radix number system.\n",
    "\n",
    "    Args:\n",
    "        pi: A list representing the permutation. The elements should be\n",
    "            a permutation of {1, 2, ..., n}.\n",
    "\n",
    "    Returns:\n",
    "        The integer rank of the permutation.\n",
    "    \"\"\"\n",
    "    n = len(pi)\n",
    "\n",
    "    # Let's assume the input is 1-based {1, 2, 3, ..., n}.\n",
    "    \n",
    "    pi_copy = list(pi)\n",
    "    r = 0\n",
    "\n",
    "    # The loop iterates from n down to 2\n",
    "    for k in range(n, 1, -1):\n",
    "       \n",
    "        i = pi_copy[k - 1]\n",
    "\n",
    "        # Follow the \"chain\" as long as i > k\n",
    "        # The while loop body is crucial for the amortized O(n) time.\n",
    "        while i > k:\n",
    "            i = pi_copy[i - 1] # i is a 1-based value, so index is i-1\n",
    "\n",
    "        # This step \"fixes\" the cycle by setting pi[i] to i\n",
    "        # This is where the in-place modification happens.\n",
    "        pi_copy[i - 1] = i\n",
    "        \n",
    "        # The rank is updated based on the number of steps in the chain and k\n",
    "        r = (k - i) + k * r\n",
    "\n",
    "    return r\n"
   ]
  },
  {
   "cell_type": "code",
   "execution_count": 62,
   "metadata": {},
   "outputs": [],
   "source": [
    "def unrankK(r, n):\n",
    "    pi = [0] * (n + 1)  # 1-based indexing\n",
    "    t = [0] * (n + 1)\n",
    "\n",
    "    pi[1] = 1\n",
    "    i = 1\n",
    "    while r > 0:\n",
    "        i += 1\n",
    "        pi[i] = i\n",
    "        t[i] = i - (r % i)\n",
    "        r = r // i\n",
    "\n",
    "    # Fill missing values as identity if i < n\n",
    "    for j in range(i + 1, n + 1):\n",
    "        pi[j] = j\n",
    "\n",
    "    for j in range(i, 1, -1):\n",
    "        pi[j], pi[t[j]] = pi[t[j]], pi[j]\n",
    "\n",
    "    return pi[1:n + 1]  # Discard index 0\n"
   ]
  },
  {
   "cell_type": "code",
   "execution_count": 60,
   "metadata": {},
   "outputs": [],
   "source": [
    "test_perm = [2,3,1,4]"
   ]
  },
  {
   "cell_type": "code",
   "execution_count": 61,
   "metadata": {},
   "outputs": [
    {
     "name": "stdout",
     "output_type": "stream",
     "text": [
      "\n",
      "Permutation [2, 3, 1, 4] has rank 5 with rankK.\n"
     ]
    }
   ],
   "source": [
    "print(f\"\\nPermutation {test_perm} has rank {rankK(test_perm)} with rankK.\")"
   ]
  },
  {
   "cell_type": "code",
   "execution_count": 67,
   "metadata": {},
   "outputs": [
    {
     "name": "stdout",
     "output_type": "stream",
     "text": [
      "Unranking 23 for n=4 gives: [2, 3, 4, 1]\n",
      "Unranking 17 for n=4 gives: [4, 3, 1, 2]\n",
      "Unranking 11 for n=4 gives: [2, 4, 1, 3]\n",
      "Unranking 5 for n=4 gives: [2, 3, 1, 4]\n",
      "Unranking 21 for n=4 gives: [3, 4, 2, 1]\n",
      "Unranking 15 for n=4 gives: [3, 1, 4, 2]\n",
      "Unranking 9 for n=4 gives: [4, 1, 2, 3]\n",
      "Unranking 3 for n=4 gives: [3, 1, 2, 4]\n",
      "Unranking 19 for n=4 gives: [2, 4, 3, 1]\n",
      "Unranking 13 for n=4 gives: [4, 1, 3, 2]\n",
      "Unranking 7 for n=4 gives: [2, 1, 4, 3]\n",
      "Unranking 1 for n=4 gives: [2, 1, 3, 4]\n",
      "Unranking 22 for n=4 gives: [3, 2, 4, 1]\n",
      "Unranking 12 for n=4 gives: [1, 4, 3, 2]\n",
      "Unranking 10 for n=4 gives: [4, 2, 1, 3]\n",
      "Unranking 4 for n=4 gives: [3, 2, 1, 4]\n",
      "Unranking 20 for n=4 gives: [4, 3, 2, 1]\n",
      "Unranking 14 for n=4 gives: [1, 3, 4, 2]\n",
      "Unranking 8 for n=4 gives: [1, 4, 2, 3]\n",
      "Unranking 2 for n=4 gives: [1, 3, 2, 4]\n",
      "Unranking 18 for n=4 gives: [4, 2, 3, 1]\n",
      "Unranking 12 for n=4 gives: [1, 4, 3, 2]\n",
      "Unranking 6 for n=4 gives: [1, 2, 4, 3]\n",
      "Unranking 0 for n=4 gives: [1, 2, 3, 4]\n"
     ]
    }
   ],
   "source": [
    "n = 4\n",
    "\n",
    "custom_order = [23,17,11,5,21,15,9,3,19,13,7,1,22,12,10,4,20,14,8,2,18,12,6,0]\n",
    "\n",
    "for rank in custom_order:\n",
    "    print(f\"Unranking {rank} for n={n} gives: {unrankK(rank,n)}\") #rank, length_of_perm"
   ]
  },
  {
   "cell_type": "code",
   "execution_count": 68,
   "metadata": {},
   "outputs": [
    {
     "name": "stdout",
     "output_type": "stream",
     "text": [
      "Unranking 23 for n=4 gives: [2, 3, 4, 1]\n",
      "Unranking 22 for n=4 gives: [3, 2, 4, 1]\n",
      "Unranking 21 for n=4 gives: [3, 4, 2, 1]\n",
      "Unranking 20 for n=4 gives: [4, 3, 2, 1]\n",
      "Unranking 19 for n=4 gives: [2, 4, 3, 1]\n",
      "Unranking 18 for n=4 gives: [4, 2, 3, 1]\n",
      "Unranking 17 for n=4 gives: [4, 3, 1, 2]\n",
      "Unranking 16 for n=4 gives: [3, 4, 1, 2]\n",
      "Unranking 15 for n=4 gives: [3, 1, 4, 2]\n",
      "Unranking 14 for n=4 gives: [1, 3, 4, 2]\n",
      "Unranking 13 for n=4 gives: [4, 1, 3, 2]\n",
      "Unranking 12 for n=4 gives: [1, 4, 3, 2]\n",
      "Unranking 11 for n=4 gives: [2, 4, 1, 3]\n",
      "Unranking 10 for n=4 gives: [4, 2, 1, 3]\n",
      "Unranking 9 for n=4 gives: [4, 1, 2, 3]\n",
      "Unranking 8 for n=4 gives: [1, 4, 2, 3]\n",
      "Unranking 7 for n=4 gives: [2, 1, 4, 3]\n",
      "Unranking 6 for n=4 gives: [1, 2, 4, 3]\n",
      "Unranking 5 for n=4 gives: [2, 3, 1, 4]\n",
      "Unranking 4 for n=4 gives: [3, 2, 1, 4]\n",
      "Unranking 3 for n=4 gives: [3, 1, 2, 4]\n",
      "Unranking 2 for n=4 gives: [1, 3, 2, 4]\n",
      "Unranking 1 for n=4 gives: [2, 1, 3, 4]\n",
      "Unranking 0 for n=4 gives: [1, 2, 3, 4]\n"
     ]
    }
   ],
   "source": [
    "n = 4\n",
    "\n",
    "for rank in range(23,-1,-1):\n",
    "    print(f\"Unranking {rank} for n={n} gives: {unrankK(rank,n)}\") #rank, length_of_perm"
   ]
  },
  {
   "cell_type": "code",
   "execution_count": null,
   "metadata": {},
   "outputs": [],
   "source": []
  }
 ],
 "metadata": {
  "kernelspec": {
   "display_name": "Python 3",
   "language": "python",
   "name": "python3"
  },
  "language_info": {
   "codemirror_mode": {
    "name": "ipython",
    "version": 3
   },
   "file_extension": ".py",
   "mimetype": "text/x-python",
   "name": "python",
   "nbconvert_exporter": "python",
   "pygments_lexer": "ipython3",
   "version": "3.12.6"
  }
 },
 "nbformat": 4,
 "nbformat_minor": 2
}
